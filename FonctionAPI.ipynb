{
  "nbformat": 4,
  "nbformat_minor": 0,
  "metadata": {
    "colab": {
      "provenance": []
    },
    "kernelspec": {
      "name": "python3",
      "display_name": "Python 3"
    },
    "language_info": {
      "name": "python"
    }
  },
  "cells": [
    {
      "cell_type": "code",
      "source": [
        "pip install googlemaps pandas"
      ],
      "metadata": {
        "colab": {
          "base_uri": "https://localhost:8080/"
        },
        "id": "hIsmfttCbnUr",
        "outputId": "dc648b13-69aa-40d8-ab4b-6ebdc3f4d83e"
      },
      "execution_count": 5,
      "outputs": [
        {
          "output_type": "stream",
          "name": "stdout",
          "text": [
            "Looking in indexes: https://pypi.org/simple, https://us-python.pkg.dev/colab-wheels/public/simple/\n",
            "Collecting googlemaps\n",
            "  Downloading googlemaps-4.10.0.tar.gz (33 kB)\n",
            "  Preparing metadata (setup.py) ... \u001b[?25l\u001b[?25hdone\n",
            "Requirement already satisfied: pandas in /usr/local/lib/python3.9/dist-packages (1.5.3)\n",
            "Requirement already satisfied: requests<3.0,>=2.20.0 in /usr/local/lib/python3.9/dist-packages (from googlemaps) (2.27.1)\n",
            "Requirement already satisfied: pytz>=2020.1 in /usr/local/lib/python3.9/dist-packages (from pandas) (2022.7.1)\n",
            "Requirement already satisfied: python-dateutil>=2.8.1 in /usr/local/lib/python3.9/dist-packages (from pandas) (2.8.2)\n",
            "Requirement already satisfied: numpy>=1.20.3 in /usr/local/lib/python3.9/dist-packages (from pandas) (1.22.4)\n",
            "Requirement already satisfied: six>=1.5 in /usr/local/lib/python3.9/dist-packages (from python-dateutil>=2.8.1->pandas) (1.16.0)\n",
            "Requirement already satisfied: charset-normalizer~=2.0.0 in /usr/local/lib/python3.9/dist-packages (from requests<3.0,>=2.20.0->googlemaps) (2.0.12)\n",
            "Requirement already satisfied: certifi>=2017.4.17 in /usr/local/lib/python3.9/dist-packages (from requests<3.0,>=2.20.0->googlemaps) (2022.12.7)\n",
            "Requirement already satisfied: urllib3<1.27,>=1.21.1 in /usr/local/lib/python3.9/dist-packages (from requests<3.0,>=2.20.0->googlemaps) (1.26.15)\n",
            "Requirement already satisfied: idna<4,>=2.5 in /usr/local/lib/python3.9/dist-packages (from requests<3.0,>=2.20.0->googlemaps) (3.4)\n",
            "Building wheels for collected packages: googlemaps\n",
            "  Building wheel for googlemaps (setup.py) ... \u001b[?25l\u001b[?25hdone\n",
            "  Created wheel for googlemaps: filename=googlemaps-4.10.0-py3-none-any.whl size=40718 sha256=8eff533d3f579e40aac6ded6dcddaf55669abfb3d84909adac78ea8adaa8c509\n",
            "  Stored in directory: /root/.cache/pip/wheels/d9/5f/46/54a2bdb4bcb07d3faba4463d2884865705914cc72a7b8bb5f0\n",
            "Successfully built googlemaps\n",
            "Installing collected packages: googlemaps\n",
            "Successfully installed googlemaps-4.10.0\n"
          ]
        }
      ]
    },
    {
      "cell_type": "markdown",
      "source": [
        "La fonction getPlaceID prend en argument la clé API et le type d'établissement tout deux de types string et retourne la **liste des place_id** pour la ville de Meaux.\n",
        "#Nearby Search"
      ],
      "metadata": {
        "id": "gN5lCmXzN3ff"
      }
    },
    {
      "cell_type": "code",
      "execution_count": 6,
      "metadata": {
        "id": "RTzVKoxtLtBD"
      },
      "outputs": [],
      "source": [
        "def getPlaceID_NS(YOUR_API_KEY, type):\n",
        "  import requests\n",
        "  import googlemaps\n",
        "  import json\n",
        "  url = f\"https://maps.googleapis.com/maps/api/place/nearbysearch/json?location=48.956202%2C2.888466&radius=2000&type={type}&key={YOUR_API_KEY}\"\n",
        "  payload={}\n",
        "  headers = {}\n",
        "  response = requests.request(\"GET\", url, headers=headers, data=payload)\n",
        "  data = json.loads(response.text)\n",
        "  place_ids = []\n",
        "  for result in data['results']:\n",
        "      place_ids.append(result['place_id'])\n",
        "  print(f\"IL Y A {len(place_ids)} place_id\")\n",
        "  return place_ids\n"
      ]
    },
    {
      "cell_type": "code",
      "source": [
        "def getName(place_ids, api_key):\n",
        "    import googlemaps\n",
        "    \"\"\"\n",
        "    Obtient les noms d'établissements associés à une liste de place_ids en utilisant l'API Google Places.\n",
        "\n",
        "    Args:\n",
        "        place_ids (list): Liste de place_ids des établissements.\n",
        "        api_key (str): Clé API pour accéder à l'API Google Places.\n",
        "\n",
        "    Returns:\n",
        "        list: Liste des noms d'établissements associés à chaque place_id.\n",
        "    \"\"\"\n",
        "\n",
        "    # Créer le client Google Maps avec la clé API\n",
        "    gmaps = googlemaps.Client(key=api_key)\n",
        "\n",
        "    # Initialiser une liste pour stocker les noms d'établissements\n",
        "    names = []\n",
        "\n",
        "    # Parcourir la liste des place_ids\n",
        "    for place_id in place_ids:\n",
        "        try:\n",
        "            # Appeler l'API Google Places pour obtenir les détails de l'établissement\n",
        "            details = gmaps.place(place_id=place_id, fields=[\"name\"])\n",
        "\n",
        "            # Extraire le nom de l'établissement à partir des détails\n",
        "            name = details[\"result\"][\"name\"]\n",
        "\n",
        "            # Ajouter le nom à la liste des noms d'établissements\n",
        "            names.append(name)\n",
        "\n",
        "        except Exception as e:\n",
        "            # Gérer les erreurs d'appel à l'API\n",
        "            print(f\"Erreur lors de la récupération du nom pour place_id: {place_id}, Erreur: {e}\")\n",
        "\n",
        "    # Retourner la liste des noms d'établissements\n",
        "    return names\n"
      ],
      "metadata": {
        "id": "I2BbRjC0mm0Z"
      },
      "execution_count": 12,
      "outputs": []
    },
    {
      "cell_type": "markdown",
      "source": [
        "Renvoie un place_id à partir d'une chaîne de caractère sous la forme\n",
        "```\n",
        "\"Comissariat%20De%Police%Meaux\"\n",
        "```\n",
        "clé API requise en argument\n",
        "\n",
        "#FindPlaceFromText"
      ],
      "metadata": {
        "id": "XlJmRF7KROzC"
      }
    },
    {
      "cell_type": "code",
      "source": [
        "def getPlaceID_Text(INPUT_TEXT, YOUR_API_KEY):\n",
        "  import requests\n",
        "  INPUT = \INPUT_TEXT\n",
        "  INPUT_TYPE = \"textquery\"\n",
        "  url = f\"https://maps.googleapis.com/maps/api/place/findplacefromtext/json?input={INPUT}&inputtype={INPUT_TYPE}&fields=formatted_address%2Cname%2Crating%2Cplace_id%2Cgeometry&key={YOUR_API_KEY}\"\n",
        "\n",
        "  payload={}\n",
        "  headers = {}\n",
        "\n",
        "  response = requests.request(\"GET\", url, headers=headers, data=payload)\n",
        "\n",
        "  if response.status_code == 200:\n",
        "      json_response = response.json()\n",
        "      if 'candidates' in json_response and len(json_response['candidates']) > 0:\n",
        "          place_id = json_response['candidates'][0]['place_id']\n",
        "          return place_id\n",
        "      else:\n",
        "          print(\"Aucun résultat trouvé.\")\n",
        "  else:\n",
        "      print(\"Erreur de requête:\", response.status_code)"
      ],
      "metadata": {
        "id": "26rCrKd9QZaj"
      },
      "execution_count": 7,
      "outputs": []
    },
    {
      "cell_type": "markdown",
      "source": [
        "Récupère les avis de la liste de place_ids que l'on télécharge. On récupère les avis les plus récents. Retourne un dataframe(avis, note, etablissement, date_avis)\n",
        "#PlaceDetails DataFrame"
      ],
      "metadata": {
        "id": "KhmwcdsOTXoL"
      }
    },
    {
      "cell_type": "code",
      "source": [
        "def getDataFrame(YOUR_API_KEY, place_ids):\n",
        "  import pandas as pd\n",
        "  import requests\n",
        "\n",
        "  response_list=[]\n",
        "  reviews_list=[]\n",
        "  for place_id in place_ids:\n",
        "    url = \"https://maps.googleapis.com/maps/api/place/details/json?place_id=\"+place_id+\"&language=fr&fields=name%2Crating%2Cformatted_phone_number%2Creviews&newest&key=\"+YOUR_API_KEY\n",
        "    payload={}\n",
        "    headers = {}\n",
        "    response = requests.request(\"GET\", url, headers=headers, data=payload)\n",
        "    response_list.append(response)\n",
        "\n",
        "  # Créer une liste pour chaque colonne du dataframe\n",
        "  avis = []\n",
        "  note = []\n",
        "  etablissement = []\n",
        "  date_avis = []\n",
        "  # Parcourir la liste de réponses\n",
        "  for response in response_list:\n",
        "      if response.status_code == 200:  # Vérifier si la réponse est valide\n",
        "          json_response = response.json()  # Convertir la réponse en format JSON\n",
        "          result = json_response.get(\"result\", {})  # Obtenir les informations de résultat\n",
        "          # Extraire les informations d'intérêt\n",
        "          name = result.get(\"name\", None)\n",
        "          rating = result.get(\"rating\", None)\n",
        "          reviews = result.get(\"reviews\", [])\n",
        "          # Parcourir les avis pour extraire les informations d'intérêt\n",
        "          for review in reviews:\n",
        "              review_text = review.get(\"text\", None)\n",
        "              review_rating = review.get(\"rating\", None)\n",
        "              review_time = review.get(\"time\", None)\n",
        "              # Ajouter les informations extraites aux listes correspondantes\n",
        "              avis.append(review_text)\n",
        "              note.append(review_rating)\n",
        "              etablissement.append(name)\n",
        "              date_avis.append(pd.to_datetime(review_time, unit=\"s\"))  # Convertir le temps UNIX en datetime\n",
        "\n",
        "  # Créer le dataframe à partir des listes\n",
        "  df = pd.DataFrame({\n",
        "      \"avis\": avis,\n",
        "      \"note\": note,\n",
        "      \"etablissement\": etablissement,\n",
        "      \"date_avis\": date_avis\n",
        "  })\n",
        "  return df"
      ],
      "metadata": {
        "id": "UmRI7p4jVyM8"
      },
      "execution_count": 8,
      "outputs": []
    },
    {
      "cell_type": "markdown",
      "source": [
        "Télécharment du df au format csv\n",
        "#DataFrame\n"
      ],
      "metadata": {
        "id": "KV3PB7JEY3al"
      }
    },
    {
      "cell_type": "code",
      "source": [
        "def DnldCsvFile(filename, df):\n",
        "  from google.colab import files\n",
        "  df.to_csv(f\"{filename}.csv\", index=False)\n",
        "  files.download(f\"{filename}.csv\")\n"
      ],
      "metadata": {
        "id": "6-W-Vl-DYTSj"
      },
      "execution_count": 9,
      "outputs": []
    },
    {
      "cell_type": "markdown",
      "source": [
        "Récap des fonctions à dispositons:\n",
        "\n",
        "```\n",
        "def getPlaceID_NS(YOUR_API_KEY, type) #return list\n",
        "def getPlaceID_Text(INPUT_TEXT, YOUR_API_KEY) #return place_id\n",
        "def getDataFrame(YOUR_API_KEY, place_ids) #return df\n",
        "def DnldCsvFile(filename, df) #return None\n",
        "```\n",
        "\n"
      ],
      "metadata": {
        "id": "4UOFw7Dha_vc"
      }
    },
    {
      "cell_type": "code",
      "source": [
        "YOUR_API_KEY = \"ME_DEMANDER_EN_PV\"\n",
        "place_ids=getPlaceID_NS(YOUR_API_KEY, \"park\")\n",
        "print(getName(place_ids, YOUR_API_KEY))\n",
        "df = getDataFrame(YOUR_API_KEY,place_ids)\n",
        "DnldCsvFile(\"Meaux_gym_récents_rayon2km_18\",df)"
      ],
      "metadata": {
        "colab": {
          "base_uri": "https://localhost:8080/",
          "height": 72
        },
        "id": "ZkqbRocma-hp",
        "outputId": "4f49a68c-00bf-4f5a-8435-27435549f4b7"
      },
      "execution_count": 17,
      "outputs": [
        {
          "output_type": "stream",
          "name": "stdout",
          "text": [
            "IL Y A 20 place_id\n",
            "['TUI STORE', 'Bossuet Garden of Meaux', 'Parc Chenonceau', 'Parc Joffre', 'Park Pâtis', 'Maisons Pierre', 'Espace de jeux pour enfants', 'Espace de jeux pour enfants', 'Plage de Meaux', 'Parc canin', 'War Memorial of the City of Meaux', 'Trinitaires Garden', 'Parc Essai', 'Ile de meaux', 'Meaux 77', 'Aire de jeux', 'GAZON AZURNORD', 'Parc du Patis', 'Jardin', 'Square Marbeau']\n"
          ]
        },
        {
          "output_type": "display_data",
          "data": {
            "text/plain": [
              "<IPython.core.display.Javascript object>"
            ],
            "application/javascript": [
              "\n",
              "    async function download(id, filename, size) {\n",
              "      if (!google.colab.kernel.accessAllowed) {\n",
              "        return;\n",
              "      }\n",
              "      const div = document.createElement('div');\n",
              "      const label = document.createElement('label');\n",
              "      label.textContent = `Downloading \"${filename}\": `;\n",
              "      div.appendChild(label);\n",
              "      const progress = document.createElement('progress');\n",
              "      progress.max = size;\n",
              "      div.appendChild(progress);\n",
              "      document.body.appendChild(div);\n",
              "\n",
              "      const buffers = [];\n",
              "      let downloaded = 0;\n",
              "\n",
              "      const channel = await google.colab.kernel.comms.open(id);\n",
              "      // Send a message to notify the kernel that we're ready.\n",
              "      channel.send({})\n",
              "\n",
              "      for await (const message of channel.messages) {\n",
              "        // Send a message to notify the kernel that we're ready.\n",
              "        channel.send({})\n",
              "        if (message.buffers) {\n",
              "          for (const buffer of message.buffers) {\n",
              "            buffers.push(buffer);\n",
              "            downloaded += buffer.byteLength;\n",
              "            progress.value = downloaded;\n",
              "          }\n",
              "        }\n",
              "      }\n",
              "      const blob = new Blob(buffers, {type: 'application/binary'});\n",
              "      const a = document.createElement('a');\n",
              "      a.href = window.URL.createObjectURL(blob);\n",
              "      a.download = filename;\n",
              "      div.appendChild(a);\n",
              "      a.click();\n",
              "      div.remove();\n",
              "    }\n",
              "  "
            ]
          },
          "metadata": {}
        },
        {
          "output_type": "display_data",
          "data": {
            "text/plain": [
              "<IPython.core.display.Javascript object>"
            ],
            "application/javascript": [
              "download(\"download_9d4784d7-0233-4b3a-8575-2f6c554fc568\", \"Meaux_gym_r\\u00e9cents_rayon2km_18.csv\", 13502)"
            ]
          },
          "metadata": {}
        }
      ]
    },
    {
      "cell_type": "code",
      "source": [],
      "metadata": {
        "id": "aR48XKgumamB"
      },
      "execution_count": null,
      "outputs": []
    }
  ]
}
